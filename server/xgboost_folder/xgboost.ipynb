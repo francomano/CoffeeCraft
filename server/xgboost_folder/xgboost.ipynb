{
 "cells": [
  {
   "cell_type": "code",
   "execution_count": 42,
   "id": "4dc0001d",
   "metadata": {},
   "outputs": [],
   "source": [
    "import xgboost as xgb\n",
    "import numpy as np\n",
    "import pandas as pd\n",
    "import optuna\n",
    "from sklearn.metrics import accuracy_score\n",
    "from sklearn.model_selection import train_test_split\n",
    "from sklearn.preprocessing import LabelEncoder, OneHotEncoder\n",
    "from sklearn.compose import ColumnTransformer\n",
    "from sklearn.pipeline import Pipeline"
   ]
  },
  {
   "cell_type": "code",
   "execution_count": 43,
   "id": "42cdfc44",
   "metadata": {},
   "outputs": [
    {
     "data": {
      "text/html": [
       "<div>\n",
       "<style scoped>\n",
       "    .dataframe tbody tr th:only-of-type {\n",
       "        vertical-align: middle;\n",
       "    }\n",
       "\n",
       "    .dataframe tbody tr th {\n",
       "        vertical-align: top;\n",
       "    }\n",
       "\n",
       "    .dataframe thead th {\n",
       "        text-align: right;\n",
       "    }\n",
       "</style>\n",
       "<table border=\"1\" class=\"dataframe\">\n",
       "  <thead>\n",
       "    <tr style=\"text-align: right;\">\n",
       "      <th></th>\n",
       "      <th>country</th>\n",
       "      <th>age</th>\n",
       "      <th>date</th>\n",
       "      <th>mood</th>\n",
       "      <th>sugar_level</th>\n",
       "      <th>coffee_type</th>\n",
       "    </tr>\n",
       "  </thead>\n",
       "  <tbody>\n",
       "    <tr>\n",
       "      <th>0</th>\n",
       "      <td>US</td>\n",
       "      <td>25</td>\n",
       "      <td>morning</td>\n",
       "      <td>happy</td>\n",
       "      <td>medium</td>\n",
       "      <td>espresso</td>\n",
       "    </tr>\n",
       "    <tr>\n",
       "      <th>1</th>\n",
       "      <td>ES</td>\n",
       "      <td>34</td>\n",
       "      <td>afternoon</td>\n",
       "      <td>normal</td>\n",
       "      <td>low</td>\n",
       "      <td>latte</td>\n",
       "    </tr>\n",
       "    <tr>\n",
       "      <th>2</th>\n",
       "      <td>IT</td>\n",
       "      <td>45</td>\n",
       "      <td>evening</td>\n",
       "      <td>depressed</td>\n",
       "      <td>high</td>\n",
       "      <td>americano</td>\n",
       "    </tr>\n",
       "    <tr>\n",
       "      <th>3</th>\n",
       "      <td>US</td>\n",
       "      <td>23</td>\n",
       "      <td>morning</td>\n",
       "      <td>ecstatic</td>\n",
       "      <td>low</td>\n",
       "      <td>cappuccino</td>\n",
       "    </tr>\n",
       "    <tr>\n",
       "      <th>4</th>\n",
       "      <td>IT</td>\n",
       "      <td>35</td>\n",
       "      <td>evening</td>\n",
       "      <td>sad</td>\n",
       "      <td>medium</td>\n",
       "      <td>espresso</td>\n",
       "    </tr>\n",
       "  </tbody>\n",
       "</table>\n",
       "</div>"
      ],
      "text/plain": [
       "  country  age       date       mood sugar_level coffee_type\n",
       "0      US   25    morning      happy      medium    espresso\n",
       "1      ES   34  afternoon     normal         low       latte\n",
       "2      IT   45    evening  depressed        high   americano\n",
       "3      US   23    morning   ecstatic         low  cappuccino\n",
       "4      IT   35    evening        sad      medium    espresso"
      ]
     },
     "execution_count": 43,
     "metadata": {},
     "output_type": "execute_result"
    }
   ],
   "source": [
    "# load dataset\n",
    "\n",
    "df = pd.read_csv(\"../../CoffeeCraft-server/backend/app/ml/data/model_data.csv\")\n",
    "\n",
    "X = df.drop('coffee_type', axis=1)\n",
    "y = df['coffee_type']\n",
    "\n",
    "df.head()"
   ]
  },
  {
   "cell_type": "code",
   "execution_count": 45,
   "id": "1156ffae",
   "metadata": {},
   "outputs": [
    {
     "ename": "SyntaxError",
     "evalue": "unexpected EOF while parsing (3278831806.py, line 10)",
     "output_type": "error",
     "traceback": [
      "\u001b[0;36m  Cell \u001b[0;32mIn[45], line 10\u001b[0;36m\u001b[0m\n\u001b[0;31m    display(y\u001b[0m\n\u001b[0m             ^\u001b[0m\n\u001b[0;31mSyntaxError\u001b[0m\u001b[0;31m:\u001b[0m unexpected EOF while parsing\n"
     ]
    }
   ],
   "source": [
    "# encode categorical features\n",
    "\n",
    "categorical_features = ['country', 'date', 'mood', 'sugar_level']\n",
    "label_encoder = LabelEncoder()\n",
    "for feature in categorical_features:\n",
    "    X[feature] = label_encoder.fit_transform(X[feature])\n",
    "X[\"age\"] = X[\"age\"].astype(int)\n",
    "y = label_encoder.fit_transform(y)\n",
    "display(X.head())\n",
    "display(y)"
   ]
  },
  {
   "cell_type": "code",
   "execution_count": 33,
   "id": "9f1f93ed",
   "metadata": {},
   "outputs": [],
   "source": [
    "# divide the dataset into test and train set\n",
    "\n",
    "X_train, X_test, y_train, y_test = train_test_split(X, y, test_size=0.2, random_state=42)"
   ]
  },
  {
   "cell_type": "code",
   "execution_count": 34,
   "id": "fa5a4870",
   "metadata": {},
   "outputs": [],
   "source": [
    "# objective function testing params on the xgb model\n",
    "\n",
    "def objective(trial):\n",
    "    params = {\n",
    "        'verbosity': 0,\n",
    "        'objective': 'multi:softmax',\n",
    "        'num_class': len(set(y)),\n",
    "        'booster': trial.suggest_categorical('booster', ['gbtree', 'dart']),\n",
    "        'lambda': trial.suggest_float('lambda', 1e-8, 1.0, log=True),\n",
    "        'alpha': trial.suggest_float('alpha', 1e-8, 1.0, log=True),\n",
    "        'max_depth': trial.suggest_int('max_depth', 3, 9),\n",
    "        'eta': trial.suggest_float('eta', 0.01, 1.0, log=True),\n",
    "        'gamma': trial.suggest_float('gamma', 1e-8, 1.0, log=True),\n",
    "        'grow_policy': trial.suggest_categorical('grow_policy', ['depthwise', 'lossguide'])\n",
    "    }\n",
    "    model = xgb.XGBClassifier(**params)\n",
    "    model.fit(X_train, y_train)\n",
    "    preds = model.predict(X_test)\n",
    "    accuracy = accuracy_score(y_test, preds)\n",
    "    return accuracy"
   ]
  },
  {
   "cell_type": "code",
   "execution_count": 35,
   "id": "bc4db267",
   "metadata": {},
   "outputs": [
    {
     "name": "stderr",
     "output_type": "stream",
     "text": [
      "[I 2024-04-09 18:30:44,066] A new study created in memory with name: no-name-8fb32696-f265-4d8c-999e-f46c5cd2e826\n",
      "[I 2024-04-09 18:30:44,696] Trial 0 finished with value: 0.4 and parameters: {'booster': 'dart', 'lambda': 0.006905052191130745, 'alpha': 1.5562144266780798e-07, 'max_depth': 7, 'eta': 0.1658540356016752, 'gamma': 9.420379295292709e-08, 'grow_policy': 'lossguide'}. Best is trial 0 with value: 0.4.\n",
      "[I 2024-04-09 18:30:44,770] Trial 1 finished with value: 0.4 and parameters: {'booster': 'gbtree', 'lambda': 0.0007348248462766141, 'alpha': 0.0014005454694491811, 'max_depth': 9, 'eta': 0.22150345363627147, 'gamma': 5.632664409654516e-06, 'grow_policy': 'depthwise'}. Best is trial 0 with value: 0.4.\n",
      "[I 2024-04-09 18:30:45,358] Trial 2 finished with value: 0.6 and parameters: {'booster': 'dart', 'lambda': 2.9502099191213237e-06, 'alpha': 0.00016907109801160745, 'max_depth': 6, 'eta': 0.013257542765623603, 'gamma': 3.8787998253830526e-07, 'grow_policy': 'lossguide'}. Best is trial 2 with value: 0.6.\n",
      "[I 2024-04-09 18:30:45,927] Trial 3 finished with value: 0.6 and parameters: {'booster': 'dart', 'lambda': 0.9272525020618704, 'alpha': 3.265488724722215e-05, 'max_depth': 4, 'eta': 0.07773431256015223, 'gamma': 0.00628158802737103, 'grow_policy': 'lossguide'}. Best is trial 2 with value: 0.6.\n",
      "[I 2024-04-09 18:30:46,577] Trial 4 finished with value: 0.4 and parameters: {'booster': 'dart', 'lambda': 0.0019335845995653831, 'alpha': 8.767579807400226e-08, 'max_depth': 3, 'eta': 0.13792321922360487, 'gamma': 0.0005408546066720965, 'grow_policy': 'lossguide'}. Best is trial 2 with value: 0.6.\n",
      "[I 2024-04-09 18:30:47,112] Trial 5 finished with value: 0.4 and parameters: {'booster': 'dart', 'lambda': 1.516993064256716e-07, 'alpha': 0.010049266213882269, 'max_depth': 7, 'eta': 0.02457460040218543, 'gamma': 0.9291711265132655, 'grow_policy': 'depthwise'}. Best is trial 2 with value: 0.6.\n",
      "[I 2024-04-09 18:30:47,182] Trial 6 finished with value: 0.6 and parameters: {'booster': 'gbtree', 'lambda': 0.0004887877466642787, 'alpha': 0.00030104477727210745, 'max_depth': 4, 'eta': 0.10524606641365385, 'gamma': 0.0003070790208074116, 'grow_policy': 'lossguide'}. Best is trial 2 with value: 0.6.\n",
      "[I 2024-04-09 18:30:47,715] Trial 7 finished with value: 0.6 and parameters: {'booster': 'dart', 'lambda': 0.5311392083267807, 'alpha': 0.2980765584771494, 'max_depth': 8, 'eta': 0.25023738274576995, 'gamma': 2.755724774810856e-07, 'grow_policy': 'depthwise'}. Best is trial 2 with value: 0.6.\n",
      "[I 2024-04-09 18:30:48,224] Trial 8 finished with value: 0.4 and parameters: {'booster': 'dart', 'lambda': 0.0017347967384289558, 'alpha': 0.00042045398799667226, 'max_depth': 5, 'eta': 0.9842966010640312, 'gamma': 4.7322293139262754e-08, 'grow_policy': 'depthwise'}. Best is trial 2 with value: 0.6.\n",
      "[I 2024-04-09 18:30:48,743] Trial 9 finished with value: 0.4 and parameters: {'booster': 'dart', 'lambda': 4.27723635091224e-05, 'alpha': 2.034598487949355e-08, 'max_depth': 6, 'eta': 0.6224014820273845, 'gamma': 4.479934908843072e-06, 'grow_policy': 'lossguide'}. Best is trial 2 with value: 0.6.\n",
      "[I 2024-04-09 18:30:48,844] Trial 10 finished with value: 0.4 and parameters: {'booster': 'gbtree', 'lambda': 3.072467120222725e-08, 'alpha': 9.998296841723217e-07, 'max_depth': 6, 'eta': 0.010433459112495139, 'gamma': 3.117013817269342e-06, 'grow_policy': 'lossguide'}. Best is trial 2 with value: 0.6.\n",
      "[I 2024-04-09 18:30:49,394] Trial 11 finished with value: 0.6 and parameters: {'booster': 'dart', 'lambda': 3.1988728329731965e-06, 'alpha': 1.0650825574728192e-05, 'max_depth': 4, 'eta': 0.03940167900529874, 'gamma': 0.023154224761648887, 'grow_policy': 'lossguide'}. Best is trial 2 with value: 0.6.\n",
      "[I 2024-04-09 18:30:49,937] Trial 12 finished with value: 0.6 and parameters: {'booster': 'dart', 'lambda': 0.879790003809028, 'alpha': 1.1197882249839595e-05, 'max_depth': 3, 'eta': 0.045460180186619514, 'gamma': 0.012412193401036843, 'grow_policy': 'lossguide'}. Best is trial 2 with value: 0.6.\n",
      "[I 2024-04-09 18:30:50,482] Trial 13 finished with value: 0.4 and parameters: {'booster': 'dart', 'lambda': 3.820156079582515e-06, 'alpha': 1.6070834349737226e-05, 'max_depth': 5, 'eta': 0.010169726259718912, 'gamma': 0.0046010175135804835, 'grow_policy': 'lossguide'}. Best is trial 2 with value: 0.6.\n",
      "[I 2024-04-09 18:30:50,577] Trial 14 finished with value: 0.4 and parameters: {'booster': 'gbtree', 'lambda': 0.04505523990682051, 'alpha': 0.01062214005015411, 'max_depth': 5, 'eta': 0.025320153786863683, 'gamma': 0.3437766225050339, 'grow_policy': 'lossguide'}. Best is trial 2 with value: 0.6.\n",
      "[I 2024-04-09 18:30:51,165] Trial 15 finished with value: 0.6 and parameters: {'booster': 'dart', 'lambda': 5.368782076364089e-06, 'alpha': 8.081157115938605e-05, 'max_depth': 4, 'eta': 0.06542068160251924, 'gamma': 4.3346309595505e-05, 'grow_policy': 'lossguide'}. Best is trial 2 with value: 0.6.\n",
      "[I 2024-04-09 18:30:51,782] Trial 16 finished with value: 0.4 and parameters: {'booster': 'dart', 'lambda': 3.8557262333922147e-07, 'alpha': 2.1001902125623633e-06, 'max_depth': 7, 'eta': 0.01958618634815024, 'gamma': 3.9274973079158345e-05, 'grow_policy': 'lossguide'}. Best is trial 2 with value: 0.6.\n",
      "[I 2024-04-09 18:30:52,333] Trial 17 finished with value: 0.2 and parameters: {'booster': 'dart', 'lambda': 0.037359073350954765, 'alpha': 0.002513088601779773, 'max_depth': 8, 'eta': 0.3430134036879354, 'gamma': 6.319929080812016e-07, 'grow_policy': 'lossguide'}. Best is trial 2 with value: 0.6.\n",
      "[I 2024-04-09 18:30:52,424] Trial 18 finished with value: 0.4 and parameters: {'booster': 'gbtree', 'lambda': 3.960631744007708e-05, 'alpha': 0.8349128423913436, 'max_depth': 6, 'eta': 0.04895762641262073, 'gamma': 1.7902156527498355e-08, 'grow_policy': 'depthwise'}. Best is trial 2 with value: 0.6.\n",
      "[I 2024-04-09 18:30:52,966] Trial 19 finished with value: 0.6 and parameters: {'booster': 'dart', 'lambda': 1.2150851049965594e-06, 'alpha': 0.05484868733296614, 'max_depth': 3, 'eta': 0.077632780749294, 'gamma': 0.001263529420998399, 'grow_policy': 'lossguide'}. Best is trial 2 with value: 0.6.\n",
      "[I 2024-04-09 18:30:53,503] Trial 20 finished with value: 0.6 and parameters: {'booster': 'dart', 'lambda': 8.780242713740406e-05, 'alpha': 9.118701856576704e-05, 'max_depth': 5, 'eta': 0.014420666873996454, 'gamma': 0.07085427076498212, 'grow_policy': 'lossguide'}. Best is trial 2 with value: 0.6.\n",
      "[I 2024-04-09 18:30:53,581] Trial 21 finished with value: 0.4 and parameters: {'booster': 'gbtree', 'lambda': 0.00036352908281921863, 'alpha': 0.0004287270676891484, 'max_depth': 4, 'eta': 0.1132974909740838, 'gamma': 0.0003400674362299236, 'grow_policy': 'lossguide'}. Best is trial 2 with value: 0.6.\n",
      "[I 2024-04-09 18:30:53,664] Trial 22 finished with value: 0.4 and parameters: {'booster': 'gbtree', 'lambda': 0.08076464733958863, 'alpha': 3.661183923478964e-05, 'max_depth': 4, 'eta': 0.09431606738461303, 'gamma': 0.00019287128381565406, 'grow_policy': 'lossguide'}. Best is trial 2 with value: 0.6.\n",
      "[I 2024-04-09 18:30:53,750] Trial 23 finished with value: 0.6 and parameters: {'booster': 'gbtree', 'lambda': 1.735337319945332e-08, 'alpha': 0.0004363032003198609, 'max_depth': 4, 'eta': 0.033532780572185755, 'gamma': 0.0023504820627353595, 'grow_policy': 'lossguide'}. Best is trial 2 with value: 0.6.\n",
      "[I 2024-04-09 18:30:53,819] Trial 24 finished with value: 0.2 and parameters: {'booster': 'gbtree', 'lambda': 0.009256974526494594, 'alpha': 2.5523589295394637e-06, 'max_depth': 3, 'eta': 0.3977607748323242, 'gamma': 2.3212256764529635e-05, 'grow_policy': 'lossguide'}. Best is trial 2 with value: 0.6.\n",
      "[I 2024-04-09 18:30:53,899] Trial 25 finished with value: 0.6 and parameters: {'booster': 'gbtree', 'lambda': 1.5202094743519167e-05, 'alpha': 0.0017332516693619197, 'max_depth': 6, 'eta': 0.07175123220568463, 'gamma': 0.03331719094451627, 'grow_policy': 'lossguide'}. Best is trial 2 with value: 0.6.\n",
      "[I 2024-04-09 18:30:53,971] Trial 26 finished with value: 0.4 and parameters: {'booster': 'gbtree', 'lambda': 9.382083652376727e-08, 'alpha': 0.00018104735080463934, 'max_depth': 5, 'eta': 0.18747119144730837, 'gamma': 0.006013293720695784, 'grow_policy': 'depthwise'}. Best is trial 2 with value: 0.6.\n"
     ]
    },
    {
     "name": "stderr",
     "output_type": "stream",
     "text": [
      "[I 2024-04-09 18:30:54,570] Trial 27 finished with value: 0.6 and parameters: {'booster': 'dart', 'lambda': 0.00023190708732000054, 'alpha': 0.010269990993488269, 'max_depth': 4, 'eta': 0.057809431188922365, 'gamma': 0.1288624945801765, 'grow_policy': 'lossguide'}. Best is trial 2 with value: 0.6.\n",
      "[I 2024-04-09 18:30:54,650] Trial 28 finished with value: 0.4 and parameters: {'booster': 'gbtree', 'lambda': 0.26572542567060853, 'alpha': 4.6973771316159135e-06, 'max_depth': 8, 'eta': 0.119602922503855, 'gamma': 0.0012142723536296062, 'grow_policy': 'lossguide'}. Best is trial 2 with value: 0.6.\n",
      "[I 2024-04-09 18:30:55,221] Trial 29 finished with value: 0.6 and parameters: {'booster': 'dart', 'lambda': 0.0047472453905907696, 'alpha': 1.9225049328402188e-07, 'max_depth': 7, 'eta': 0.016545539783862296, 'gamma': 7.26458454677853e-05, 'grow_policy': 'lossguide'}. Best is trial 2 with value: 0.6.\n",
      "[I 2024-04-09 18:30:55,774] Trial 30 finished with value: 0.6 and parameters: {'booster': 'dart', 'lambda': 9.325942139334417e-07, 'alpha': 3.518856474597255e-07, 'max_depth': 9, 'eta': 0.03076208785769013, 'gamma': 8.824270414573602e-07, 'grow_policy': 'lossguide'}. Best is trial 2 with value: 0.6.\n",
      "[I 2024-04-09 18:30:56,310] Trial 31 finished with value: 0.6 and parameters: {'booster': 'dart', 'lambda': 0.6292430901292262, 'alpha': 0.4084967519715869, 'max_depth': 8, 'eta': 0.25146831676152653, 'gamma': 1.6718901149920905e-07, 'grow_policy': 'depthwise'}. Best is trial 2 with value: 0.6.\n",
      "[I 2024-04-09 18:30:56,847] Trial 32 finished with value: 0.4 and parameters: {'booster': 'dart', 'lambda': 0.19396977533174997, 'alpha': 0.11855842031015239, 'max_depth': 8, 'eta': 0.31257193012281387, 'gamma': 3.633051654130723e-07, 'grow_policy': 'depthwise'}. Best is trial 2 with value: 0.6.\n",
      "[I 2024-04-09 18:30:57,447] Trial 33 finished with value: 0.4 and parameters: {'booster': 'dart', 'lambda': 0.013002504854504394, 'alpha': 0.04123540539287543, 'max_depth': 9, 'eta': 0.15766873927991376, 'gamma': 5.73563870602092e-08, 'grow_policy': 'depthwise'}. Best is trial 2 with value: 0.6.\n",
      "[I 2024-04-09 18:30:58,007] Trial 34 finished with value: 0.2 and parameters: {'booster': 'dart', 'lambda': 0.24379015482658095, 'alpha': 3.4797843524768764e-05, 'max_depth': 6, 'eta': 0.4579479626574503, 'gamma': 8.403900610790748e-06, 'grow_policy': 'depthwise'}. Best is trial 2 with value: 0.6.\n",
      "[I 2024-04-09 18:30:58,573] Trial 35 finished with value: 0.4 and parameters: {'booster': 'dart', 'lambda': 0.0007574146775985033, 'alpha': 0.004267071384958917, 'max_depth': 7, 'eta': 0.2246386942516452, 'gamma': 1.2368693104389036e-08, 'grow_policy': 'depthwise'}. Best is trial 2 with value: 0.6.\n",
      "[I 2024-04-09 18:30:59,193] Trial 36 finished with value: 0.4 and parameters: {'booster': 'dart', 'lambda': 0.002820415579053606, 'alpha': 0.0007844828169185327, 'max_depth': 5, 'eta': 0.6443212779123616, 'gamma': 1.3478902563525843e-06, 'grow_policy': 'depthwise'}. Best is trial 2 with value: 0.6.\n",
      "[I 2024-04-09 18:30:59,811] Trial 37 finished with value: 0.4 and parameters: {'booster': 'dart', 'lambda': 0.0205532370879009, 'alpha': 0.00017178872187866064, 'max_depth': 3, 'eta': 0.149659775048804, 'gamma': 1.438532646483019e-05, 'grow_policy': 'depthwise'}. Best is trial 2 with value: 0.6.\n",
      "[I 2024-04-09 18:30:59,898] Trial 38 finished with value: 0.6 and parameters: {'booster': 'gbtree', 'lambda': 0.10973506965167178, 'alpha': 8.133050394994267e-07, 'max_depth': 9, 'eta': 0.09581547589686958, 'gamma': 1.9712329861001365e-07, 'grow_policy': 'depthwise'}. Best is trial 2 with value: 0.6.\n",
      "[I 2024-04-09 18:31:00,488] Trial 39 finished with value: 0.2 and parameters: {'booster': 'dart', 'lambda': 1.3364692111367686e-05, 'alpha': 7.091794457485811e-08, 'max_depth': 6, 'eta': 0.5485441077473846, 'gamma': 2.2578236989672185e-06, 'grow_policy': 'lossguide'}. Best is trial 2 with value: 0.6.\n",
      "[I 2024-04-09 18:31:01,053] Trial 40 finished with value: 0.2 and parameters: {'booster': 'dart', 'lambda': 0.7563171297505031, 'alpha': 1.3564486953464273e-08, 'max_depth': 7, 'eta': 0.8332343652803574, 'gamma': 0.00012258275943870334, 'grow_policy': 'lossguide'}. Best is trial 2 with value: 0.6.\n",
      "[I 2024-04-09 18:31:01,677] Trial 41 finished with value: 0.6 and parameters: {'booster': 'dart', 'lambda': 1.948553144739212e-06, 'alpha': 9.38273356273368e-06, 'max_depth': 4, 'eta': 0.040045061836811, 'gamma': 0.01764913947140553, 'grow_policy': 'lossguide'}. Best is trial 2 with value: 0.6.\n",
      "[I 2024-04-09 18:31:02,505] Trial 42 finished with value: 0.6 and parameters: {'booster': 'dart', 'lambda': 3.9523100269804923e-07, 'alpha': 3.1687586533386594e-05, 'max_depth': 4, 'eta': 0.013914774672471082, 'gamma': 0.000679413544187095, 'grow_policy': 'lossguide'}. Best is trial 2 with value: 0.6.\n",
      "[I 2024-04-09 18:31:03,177] Trial 43 finished with value: 0.4 and parameters: {'booster': 'dart', 'lambda': 7.231957578855236e-06, 'alpha': 6.4282375616928585e-06, 'max_depth': 3, 'eta': 0.02233251409816005, 'gamma': 0.8121757090030363, 'grow_policy': 'lossguide'}. Best is trial 2 with value: 0.6.\n",
      "[I 2024-04-09 18:31:03,802] Trial 44 finished with value: 0.6 and parameters: {'booster': 'dart', 'lambda': 6.52067206440385e-08, 'alpha': 6.212682852672732e-05, 'max_depth': 5, 'eta': 0.05844544815506223, 'gamma': 0.008100029752625812, 'grow_policy': 'lossguide'}. Best is trial 2 with value: 0.6.\n",
      "[I 2024-04-09 18:31:04,439] Trial 45 finished with value: 0.6 and parameters: {'booster': 'dart', 'lambda': 7.902388123703008e-05, 'alpha': 1.5450040330353843e-05, 'max_depth': 4, 'eta': 0.030830718853882427, 'gamma': 0.002674903770149677, 'grow_policy': 'lossguide'}. Best is trial 2 with value: 0.6.\n",
      "[I 2024-04-09 18:31:05,052] Trial 46 finished with value: 0.6 and parameters: {'booster': 'dart', 'lambda': 3.187409492461862e-07, 'alpha': 0.0001904124031067854, 'max_depth': 5, 'eta': 0.18822834010134298, 'gamma': 0.026875404230318905, 'grow_policy': 'lossguide'}. Best is trial 2 with value: 0.6.\n",
      "[I 2024-04-09 18:31:05,152] Trial 47 finished with value: 0.4 and parameters: {'booster': 'gbtree', 'lambda': 1.7196598315769043e-05, 'alpha': 0.003575311705105664, 'max_depth': 3, 'eta': 0.08608186263004332, 'gamma': 0.11855605352109992, 'grow_policy': 'lossguide'}. Best is trial 2 with value: 0.6.\n",
      "[I 2024-04-09 18:31:05,734] Trial 48 finished with value: 0.4 and parameters: {'booster': 'dart', 'lambda': 2.284152475703223e-06, 'alpha': 0.0008720667072302026, 'max_depth': 4, 'eta': 0.2718840772757553, 'gamma': 0.0003753936055548519, 'grow_policy': 'lossguide'}. Best is trial 2 with value: 0.6.\n",
      "[I 2024-04-09 18:31:06,320] Trial 49 finished with value: 0.4 and parameters: {'booster': 'dart', 'lambda': 3.113365812287272e-05, 'alpha': 1.079590438520331e-06, 'max_depth': 5, 'eta': 0.12409409037391206, 'gamma': 3.8001209272858596e-08, 'grow_policy': 'depthwise'}. Best is trial 2 with value: 0.6.\n"
     ]
    },
    {
     "name": "stdout",
     "output_type": "stream",
     "text": [
      "Meilleurs hyperparamètres: {'booster': 'dart', 'lambda': 2.9502099191213237e-06, 'alpha': 0.00016907109801160745, 'max_depth': 6, 'eta': 0.013257542765623603, 'gamma': 3.8787998253830526e-07, 'grow_policy': 'lossguide'}\n"
     ]
    }
   ],
   "source": [
    "# make a study to find the best params\n",
    "\n",
    "study = optuna.create_study(direction='maximize')\n",
    "study.optimize(objective, n_trials=50)\n",
    "\n",
    "# Affichage des meilleurs hyperparamètres\n",
    "print(\"Meilleurs hyperparamètres:\", study.best_trial.params)"
   ]
  },
  {
   "cell_type": "code",
   "execution_count": 36,
   "id": "f7873f72",
   "metadata": {},
   "outputs": [
    {
     "data": {
      "text/html": [
       "<style>#sk-container-id-3 {color: black;}#sk-container-id-3 pre{padding: 0;}#sk-container-id-3 div.sk-toggleable {background-color: white;}#sk-container-id-3 label.sk-toggleable__label {cursor: pointer;display: block;width: 100%;margin-bottom: 0;padding: 0.3em;box-sizing: border-box;text-align: center;}#sk-container-id-3 label.sk-toggleable__label-arrow:before {content: \"▸\";float: left;margin-right: 0.25em;color: #696969;}#sk-container-id-3 label.sk-toggleable__label-arrow:hover:before {color: black;}#sk-container-id-3 div.sk-estimator:hover label.sk-toggleable__label-arrow:before {color: black;}#sk-container-id-3 div.sk-toggleable__content {max-height: 0;max-width: 0;overflow: hidden;text-align: left;background-color: #f0f8ff;}#sk-container-id-3 div.sk-toggleable__content pre {margin: 0.2em;color: black;border-radius: 0.25em;background-color: #f0f8ff;}#sk-container-id-3 input.sk-toggleable__control:checked~div.sk-toggleable__content {max-height: 200px;max-width: 100%;overflow: auto;}#sk-container-id-3 input.sk-toggleable__control:checked~label.sk-toggleable__label-arrow:before {content: \"▾\";}#sk-container-id-3 div.sk-estimator input.sk-toggleable__control:checked~label.sk-toggleable__label {background-color: #d4ebff;}#sk-container-id-3 div.sk-label input.sk-toggleable__control:checked~label.sk-toggleable__label {background-color: #d4ebff;}#sk-container-id-3 input.sk-hidden--visually {border: 0;clip: rect(1px 1px 1px 1px);clip: rect(1px, 1px, 1px, 1px);height: 1px;margin: -1px;overflow: hidden;padding: 0;position: absolute;width: 1px;}#sk-container-id-3 div.sk-estimator {font-family: monospace;background-color: #f0f8ff;border: 1px dotted black;border-radius: 0.25em;box-sizing: border-box;margin-bottom: 0.5em;}#sk-container-id-3 div.sk-estimator:hover {background-color: #d4ebff;}#sk-container-id-3 div.sk-parallel-item::after {content: \"\";width: 100%;border-bottom: 1px solid gray;flex-grow: 1;}#sk-container-id-3 div.sk-label:hover label.sk-toggleable__label {background-color: #d4ebff;}#sk-container-id-3 div.sk-serial::before {content: \"\";position: absolute;border-left: 1px solid gray;box-sizing: border-box;top: 0;bottom: 0;left: 50%;z-index: 0;}#sk-container-id-3 div.sk-serial {display: flex;flex-direction: column;align-items: center;background-color: white;padding-right: 0.2em;padding-left: 0.2em;position: relative;}#sk-container-id-3 div.sk-item {position: relative;z-index: 1;}#sk-container-id-3 div.sk-parallel {display: flex;align-items: stretch;justify-content: center;background-color: white;position: relative;}#sk-container-id-3 div.sk-item::before, #sk-container-id-3 div.sk-parallel-item::before {content: \"\";position: absolute;border-left: 1px solid gray;box-sizing: border-box;top: 0;bottom: 0;left: 50%;z-index: -1;}#sk-container-id-3 div.sk-parallel-item {display: flex;flex-direction: column;z-index: 1;position: relative;background-color: white;}#sk-container-id-3 div.sk-parallel-item:first-child::after {align-self: flex-end;width: 50%;}#sk-container-id-3 div.sk-parallel-item:last-child::after {align-self: flex-start;width: 50%;}#sk-container-id-3 div.sk-parallel-item:only-child::after {width: 0;}#sk-container-id-3 div.sk-dashed-wrapped {border: 1px dashed gray;margin: 0 0.4em 0.5em 0.4em;box-sizing: border-box;padding-bottom: 0.4em;background-color: white;}#sk-container-id-3 div.sk-label label {font-family: monospace;font-weight: bold;display: inline-block;line-height: 1.2em;}#sk-container-id-3 div.sk-label-container {text-align: center;}#sk-container-id-3 div.sk-container {/* jupyter's `normalize.less` sets `[hidden] { display: none; }` but bootstrap.min.css set `[hidden] { display: none !important; }` so we also need the `!important` here to be able to override the default hidden behavior on the sphinx rendered scikit-learn.org. See: https://github.com/scikit-learn/scikit-learn/issues/21755 */display: inline-block !important;position: relative;}#sk-container-id-3 div.sk-text-repr-fallback {display: none;}</style><div id=\"sk-container-id-3\" class=\"sk-top-container\"><div class=\"sk-text-repr-fallback\"><pre>XGBClassifier(alpha=0.00016907109801160745, base_score=None, booster=&#x27;dart&#x27;,\n",
       "              callbacks=None, colsample_bylevel=None, colsample_bynode=None,\n",
       "              colsample_bytree=None, early_stopping_rounds=None,\n",
       "              enable_categorical=False, eta=0.013257542765623603,\n",
       "              eval_metric=None, feature_types=None,\n",
       "              gamma=3.8787998253830526e-07, gpu_id=None,\n",
       "              grow_policy=&#x27;lossguide&#x27;, importance_type=None,\n",
       "              interaction_constraints=None, lambda=2.9502099191213237e-06,\n",
       "              learning_rate=None, max_bin=None, max_cat_threshold=None,\n",
       "              max_cat_to_onehot=None, max_delta_step=None, max_depth=6,\n",
       "              max_leaves=None, min_child_weight=None, missing=nan,\n",
       "              monotone_constraints=None, n_estimators=100, n_jobs=None, ...)</pre><b>In a Jupyter environment, please rerun this cell to show the HTML representation or trust the notebook. <br />On GitHub, the HTML representation is unable to render, please try loading this page with nbviewer.org.</b></div><div class=\"sk-container\" hidden><div class=\"sk-item\"><div class=\"sk-estimator sk-toggleable\"><input class=\"sk-toggleable__control sk-hidden--visually\" id=\"sk-estimator-id-3\" type=\"checkbox\" checked><label for=\"sk-estimator-id-3\" class=\"sk-toggleable__label sk-toggleable__label-arrow\">XGBClassifier</label><div class=\"sk-toggleable__content\"><pre>XGBClassifier(alpha=0.00016907109801160745, base_score=None, booster=&#x27;dart&#x27;,\n",
       "              callbacks=None, colsample_bylevel=None, colsample_bynode=None,\n",
       "              colsample_bytree=None, early_stopping_rounds=None,\n",
       "              enable_categorical=False, eta=0.013257542765623603,\n",
       "              eval_metric=None, feature_types=None,\n",
       "              gamma=3.8787998253830526e-07, gpu_id=None,\n",
       "              grow_policy=&#x27;lossguide&#x27;, importance_type=None,\n",
       "              interaction_constraints=None, lambda=2.9502099191213237e-06,\n",
       "              learning_rate=None, max_bin=None, max_cat_threshold=None,\n",
       "              max_cat_to_onehot=None, max_delta_step=None, max_depth=6,\n",
       "              max_leaves=None, min_child_weight=None, missing=nan,\n",
       "              monotone_constraints=None, n_estimators=100, n_jobs=None, ...)</pre></div></div></div></div></div>"
      ],
      "text/plain": [
       "XGBClassifier(alpha=0.00016907109801160745, base_score=None, booster='dart',\n",
       "              callbacks=None, colsample_bylevel=None, colsample_bynode=None,\n",
       "              colsample_bytree=None, early_stopping_rounds=None,\n",
       "              enable_categorical=False, eta=0.013257542765623603,\n",
       "              eval_metric=None, feature_types=None,\n",
       "              gamma=3.8787998253830526e-07, gpu_id=None,\n",
       "              grow_policy='lossguide', importance_type=None,\n",
       "              interaction_constraints=None, lambda=2.9502099191213237e-06,\n",
       "              learning_rate=None, max_bin=None, max_cat_threshold=None,\n",
       "              max_cat_to_onehot=None, max_delta_step=None, max_depth=6,\n",
       "              max_leaves=None, min_child_weight=None, missing=nan,\n",
       "              monotone_constraints=None, n_estimators=100, n_jobs=None, ...)"
      ]
     },
     "execution_count": 36,
     "metadata": {},
     "output_type": "execute_result"
    }
   ],
   "source": [
    "# Fit the model with best params\n",
    "\n",
    "best_params = study.best_trial.params\n",
    "model = xgb.XGBClassifier(**best_params, num_class=len(set(y)))\n",
    "model.fit(X_train, y_train)"
   ]
  },
  {
   "cell_type": "code",
   "execution_count": 41,
   "id": "deb8e092",
   "metadata": {},
   "outputs": [
    {
     "name": "stdout",
     "output_type": "stream",
     "text": [
      "accuracy : 0.6\n",
      "Prédictions values : ['latte' 'cappuccino' 'espresso' 'espresso' 'latte']\n",
      "Real values : ['espresso' 'cappuccino' 'espresso' 'latte' 'latte']\n"
     ]
    }
   ],
   "source": [
    "# Make some predictions on the test set\n",
    "\n",
    "predictions = model.predict(X_test)\n",
    "predictions_labels = label_encoder.inverse_transform(predictions)\n",
    "\n",
    "accuracy = accuracy_score(y_test, predictions)\n",
    "print(f\"accuracy : {accuracy}\")\n",
    "print(f\"Prédictions values : {predictions_labels}\")\n",
    "print(f\"Real values : {label_encoder.inverse_transform(y_test)}\")\n",
    "\n"
   ]
  },
  {
   "cell_type": "code",
   "execution_count": null,
   "id": "e54caeb0",
   "metadata": {},
   "outputs": [],
   "source": []
  }
 ],
 "metadata": {
  "kernelspec": {
   "display_name": "Python 3 (ipykernel)",
   "language": "python",
   "name": "python3"
  },
  "language_info": {
   "codemirror_mode": {
    "name": "ipython",
    "version": 3
   },
   "file_extension": ".py",
   "mimetype": "text/x-python",
   "name": "python",
   "nbconvert_exporter": "python",
   "pygments_lexer": "ipython3",
   "version": "3.9.19"
  }
 },
 "nbformat": 4,
 "nbformat_minor": 5
}
